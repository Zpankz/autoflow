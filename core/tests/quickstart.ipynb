{
 "cells": [
  {
   "cell_type": "markdown",
   "id": "f4c3f49f",
   "metadata": {},
   "source": [
    "#### Install dependences"
   ]
  },
  {
   "cell_type": "code",
   "execution_count": null,
   "id": "initial_id",
   "metadata": {
    "collapsed": true,
    "jupyter": {
     "is_executing": true
    }
   },
   "outputs": [
    {
     "name": "stdout",
     "output_type": "stream",
     "text": [
      "Requirement already satisfied: autoflow-ai==0.0.1.dev5 in /Library/Frameworks/Python.framework/Versions/3.12/lib/python3.12/site-packages (0.0.1.dev5)\n",
      "Requirement already satisfied: deepdiff>=8.2.0 in /Library/Frameworks/Python.framework/Versions/3.12/lib/python3.12/site-packages (from autoflow-ai==0.0.1.dev5) (8.2.0)\n",
      "Requirement already satisfied: dspy>=2.6.6 in /Library/Frameworks/Python.framework/Versions/3.12/lib/python3.12/site-packages (from autoflow-ai==0.0.1.dev5) (2.6.8)\n",
      "Requirement already satisfied: litellm>=1.61.11 in /Library/Frameworks/Python.framework/Versions/3.12/lib/python3.12/site-packages (from autoflow-ai==0.0.1.dev5) (1.61.20)\n",
      "Requirement already satisfied: llama-index-embeddings-litellm>=0.3.0 in /Library/Frameworks/Python.framework/Versions/3.12/lib/python3.12/site-packages (from autoflow-ai==0.0.1.dev5) (0.3.0)\n",
      "Requirement already satisfied: llama-index-llms-litellm>=0.3.0 in /Library/Frameworks/Python.framework/Versions/3.12/lib/python3.12/site-packages (from autoflow-ai==0.0.1.dev5) (0.3.0)\n",
      "Requirement already satisfied: llama-index>=0.12.19 in /Library/Frameworks/Python.framework/Versions/3.12/lib/python3.12/site-packages (from autoflow-ai==0.0.1.dev5) (0.12.21)\n",
      "Requirement already satisfied: markdownify>=0.13.1 in /Library/Frameworks/Python.framework/Versions/3.12/lib/python3.12/site-packages (from autoflow-ai==0.0.1.dev5) (1.0.0)\n",
      "Requirement already satisfied: opendal>=0.45.15 in /Library/Frameworks/Python.framework/Versions/3.12/lib/python3.12/site-packages (from autoflow-ai==0.0.1.dev5) (0.45.16)\n",
      "Requirement already satisfied: openpyxl>=3.1.5 in /Library/Frameworks/Python.framework/Versions/3.12/lib/python3.12/site-packages (from autoflow-ai==0.0.1.dev5) (3.1.5)\n",
      "Requirement already satisfied: playwright>=1.50.0 in /Library/Frameworks/Python.framework/Versions/3.12/lib/python3.12/site-packages (from autoflow-ai==0.0.1.dev5) (1.50.0)\n",
      "Requirement already satisfied: pymysql>=1.1.1 in /Library/Frameworks/Python.framework/Versions/3.12/lib/python3.12/site-packages (from autoflow-ai==0.0.1.dev5) (1.1.1)\n",
      "Requirement already satisfied: pypdf>=4.3.1 in /Library/Frameworks/Python.framework/Versions/3.12/lib/python3.12/site-packages (from autoflow-ai==0.0.1.dev5) (5.2.0)\n",
      "Requirement already satisfied: pytest>=8.3.4 in /Library/Frameworks/Python.framework/Versions/3.12/lib/python3.12/site-packages (from autoflow-ai==0.0.1.dev5) (8.3.4)\n",
      "Requirement already satisfied: python-docx>=1.1.2 in /Library/Frameworks/Python.framework/Versions/3.12/lib/python3.12/site-packages (from autoflow-ai==0.0.1.dev5) (1.1.2)\n",
      "Requirement already satisfied: python-pptx>=1.0.2 in /Library/Frameworks/Python.framework/Versions/3.12/lib/python3.12/site-packages (from autoflow-ai==0.0.1.dev5) (1.0.2)\n",
      "Requirement already satisfied: sqlmodel>=0.0.22 in /Library/Frameworks/Python.framework/Versions/3.12/lib/python3.12/site-packages (from autoflow-ai==0.0.1.dev5) (0.0.22)\n",
      "Requirement already satisfied: tidb-vector>=0.0.14 in /Library/Frameworks/Python.framework/Versions/3.12/lib/python3.12/site-packages (from autoflow-ai==0.0.1.dev5) (0.0.14)\n",
      "Requirement already satisfied: tokenizers>=0.21.0 in /Library/Frameworks/Python.framework/Versions/3.12/lib/python3.12/site-packages (from autoflow-ai==0.0.1.dev5) (0.21.0)\n",
      "Requirement already satisfied: orderly-set<6,>=5.3.0 in /Library/Frameworks/Python.framework/Versions/3.12/lib/python3.12/site-packages (from deepdiff>=8.2.0->autoflow-ai==0.0.1.dev5) (5.3.0)\n",
      "Requirement already satisfied: backoff in /Library/Frameworks/Python.framework/Versions/3.12/lib/python3.12/site-packages (from dspy>=2.6.6->autoflow-ai==0.0.1.dev5) (2.2.1)\n",
      "Requirement already satisfied: joblib~=1.3 in /Library/Frameworks/Python.framework/Versions/3.12/lib/python3.12/site-packages (from dspy>=2.6.6->autoflow-ai==0.0.1.dev5) (1.4.2)\n",
      "Requirement already satisfied: openai in /Library/Frameworks/Python.framework/Versions/3.12/lib/python3.12/site-packages (from dspy>=2.6.6->autoflow-ai==0.0.1.dev5) (1.61.1)\n",
      "Requirement already satisfied: pandas in /Library/Frameworks/Python.framework/Versions/3.12/lib/python3.12/site-packages (from dspy>=2.6.6->autoflow-ai==0.0.1.dev5) (2.2.3)\n",
      "Requirement already satisfied: regex in /Library/Frameworks/Python.framework/Versions/3.12/lib/python3.12/site-packages (from dspy>=2.6.6->autoflow-ai==0.0.1.dev5) (2024.9.11)\n",
      "Requirement already satisfied: ujson in /Library/Frameworks/Python.framework/Versions/3.12/lib/python3.12/site-packages (from dspy>=2.6.6->autoflow-ai==0.0.1.dev5) (5.10.0)\n",
      "Requirement already satisfied: tqdm in /Library/Frameworks/Python.framework/Versions/3.12/lib/python3.12/site-packages (from dspy>=2.6.6->autoflow-ai==0.0.1.dev5) (4.66.5)\n",
      "Requirement already satisfied: datasets<3.0.0,>=2.14.6 in /Library/Frameworks/Python.framework/Versions/3.12/lib/python3.12/site-packages (from dspy>=2.6.6->autoflow-ai==0.0.1.dev5) (2.21.0)\n",
      "Requirement already satisfied: requests in /Library/Frameworks/Python.framework/Versions/3.12/lib/python3.12/site-packages (from dspy>=2.6.6->autoflow-ai==0.0.1.dev5) (2.32.3)\n",
      "Requirement already satisfied: optuna in /Library/Frameworks/Python.framework/Versions/3.12/lib/python3.12/site-packages (from dspy>=2.6.6->autoflow-ai==0.0.1.dev5) (4.2.1)\n",
      "Requirement already satisfied: pydantic~=2.0 in /Library/Frameworks/Python.framework/Versions/3.12/lib/python3.12/site-packages (from dspy>=2.6.6->autoflow-ai==0.0.1.dev5) (2.9.2)\n",
      "Requirement already satisfied: jinja2 in /Library/Frameworks/Python.framework/Versions/3.12/lib/python3.12/site-packages (from dspy>=2.6.6->autoflow-ai==0.0.1.dev5) (3.1.4)\n",
      "Requirement already satisfied: magicattr~=0.1.6 in /Library/Frameworks/Python.framework/Versions/3.12/lib/python3.12/site-packages (from dspy>=2.6.6->autoflow-ai==0.0.1.dev5) (0.1.6)\n",
      "Requirement already satisfied: diskcache in /Library/Frameworks/Python.framework/Versions/3.12/lib/python3.12/site-packages (from dspy>=2.6.6->autoflow-ai==0.0.1.dev5) (5.6.3)\n",
      "Requirement already satisfied: json-repair in /Library/Frameworks/Python.framework/Versions/3.12/lib/python3.12/site-packages (from dspy>=2.6.6->autoflow-ai==0.0.1.dev5) (0.28.4)\n",
      "Requirement already satisfied: tenacity>=8.2.3 in /Library/Frameworks/Python.framework/Versions/3.12/lib/python3.12/site-packages (from dspy>=2.6.6->autoflow-ai==0.0.1.dev5) (9.0.0)\n",
      "Requirement already satisfied: anyio in /Library/Frameworks/Python.framework/Versions/3.12/lib/python3.12/site-packages (from dspy>=2.6.6->autoflow-ai==0.0.1.dev5) (4.6.0)\n",
      "Requirement already satisfied: asyncer==0.0.8 in /Library/Frameworks/Python.framework/Versions/3.12/lib/python3.12/site-packages (from dspy>=2.6.6->autoflow-ai==0.0.1.dev5) (0.0.8)\n",
      "Requirement already satisfied: cachetools in /Library/Frameworks/Python.framework/Versions/3.12/lib/python3.12/site-packages (from dspy>=2.6.6->autoflow-ai==0.0.1.dev5) (5.5.0)\n",
      "Requirement already satisfied: cloudpickle in /Library/Frameworks/Python.framework/Versions/3.12/lib/python3.12/site-packages (from dspy>=2.6.6->autoflow-ai==0.0.1.dev5) (3.1.0)\n",
      "Requirement already satisfied: aiohttp in /Library/Frameworks/Python.framework/Versions/3.12/lib/python3.12/site-packages (from litellm>=1.61.11->autoflow-ai==0.0.1.dev5) (3.11.11)\n",
      "Requirement already satisfied: click in /Library/Frameworks/Python.framework/Versions/3.12/lib/python3.12/site-packages (from litellm>=1.61.11->autoflow-ai==0.0.1.dev5) (8.1.7)\n",
      "Requirement already satisfied: httpx>=0.23.0 in /Library/Frameworks/Python.framework/Versions/3.12/lib/python3.12/site-packages (from litellm>=1.61.11->autoflow-ai==0.0.1.dev5) (0.27.2)\n",
      "Requirement already satisfied: importlib-metadata>=6.8.0 in /Library/Frameworks/Python.framework/Versions/3.12/lib/python3.12/site-packages (from litellm>=1.61.11->autoflow-ai==0.0.1.dev5) (8.5.0)\n",
      "Requirement already satisfied: jsonschema<5.0.0,>=4.22.0 in /Library/Frameworks/Python.framework/Versions/3.12/lib/python3.12/site-packages (from litellm>=1.61.11->autoflow-ai==0.0.1.dev5) (4.23.0)\n",
      "Requirement already satisfied: python-dotenv>=0.2.0 in /Library/Frameworks/Python.framework/Versions/3.12/lib/python3.12/site-packages (from litellm>=1.61.11->autoflow-ai==0.0.1.dev5) (1.0.1)\n",
      "Requirement already satisfied: tiktoken>=0.7.0 in /Library/Frameworks/Python.framework/Versions/3.12/lib/python3.12/site-packages (from litellm>=1.61.11->autoflow-ai==0.0.1.dev5) (0.7.0)\n",
      "Requirement already satisfied: llama-index-agent-openai<0.5.0,>=0.4.0 in /Library/Frameworks/Python.framework/Versions/3.12/lib/python3.12/site-packages (from llama-index>=0.12.19->autoflow-ai==0.0.1.dev5) (0.4.3)\n",
      "Requirement already satisfied: llama-index-cli<0.5.0,>=0.4.1 in /Library/Frameworks/Python.framework/Versions/3.12/lib/python3.12/site-packages (from llama-index>=0.12.19->autoflow-ai==0.0.1.dev5) (0.4.1)\n",
      "Requirement already satisfied: llama-index-core<0.13.0,>=0.12.21 in /Library/Frameworks/Python.framework/Versions/3.12/lib/python3.12/site-packages (from llama-index>=0.12.19->autoflow-ai==0.0.1.dev5) (0.12.21)\n",
      "Requirement already satisfied: llama-index-embeddings-openai<0.4.0,>=0.3.0 in /Library/Frameworks/Python.framework/Versions/3.12/lib/python3.12/site-packages (from llama-index>=0.12.19->autoflow-ai==0.0.1.dev5) (0.3.1)\n",
      "Requirement already satisfied: llama-index-indices-managed-llama-cloud>=0.4.0 in /Library/Frameworks/Python.framework/Versions/3.12/lib/python3.12/site-packages (from llama-index>=0.12.19->autoflow-ai==0.0.1.dev5) (0.6.4)\n",
      "Requirement already satisfied: llama-index-llms-openai<0.4.0,>=0.3.0 in /Library/Frameworks/Python.framework/Versions/3.12/lib/python3.12/site-packages (from llama-index>=0.12.19->autoflow-ai==0.0.1.dev5) (0.3.18)\n",
      "Requirement already satisfied: llama-index-multi-modal-llms-openai<0.5.0,>=0.4.0 in /Library/Frameworks/Python.framework/Versions/3.12/lib/python3.12/site-packages (from llama-index>=0.12.19->autoflow-ai==0.0.1.dev5) (0.4.3)\n",
      "Requirement already satisfied: llama-index-program-openai<0.4.0,>=0.3.0 in /Library/Frameworks/Python.framework/Versions/3.12/lib/python3.12/site-packages (from llama-index>=0.12.19->autoflow-ai==0.0.1.dev5) (0.3.1)\n",
      "Requirement already satisfied: llama-index-question-gen-openai<0.4.0,>=0.3.0 in /Library/Frameworks/Python.framework/Versions/3.12/lib/python3.12/site-packages (from llama-index>=0.12.19->autoflow-ai==0.0.1.dev5) (0.3.0)\n",
      "Requirement already satisfied: llama-index-readers-file<0.5.0,>=0.4.0 in /Library/Frameworks/Python.framework/Versions/3.12/lib/python3.12/site-packages (from llama-index>=0.12.19->autoflow-ai==0.0.1.dev5) (0.4.4)\n",
      "Requirement already satisfied: llama-index-readers-llama-parse>=0.4.0 in /Library/Frameworks/Python.framework/Versions/3.12/lib/python3.12/site-packages (from llama-index>=0.12.19->autoflow-ai==0.0.1.dev5) (0.4.0)\n",
      "Requirement already satisfied: nltk>3.8.1 in /Library/Frameworks/Python.framework/Versions/3.12/lib/python3.12/site-packages (from llama-index>=0.12.19->autoflow-ai==0.0.1.dev5) (3.9.1)\n",
      "Requirement already satisfied: beautifulsoup4<5,>=4.9 in /Library/Frameworks/Python.framework/Versions/3.12/lib/python3.12/site-packages (from markdownify>=0.13.1->autoflow-ai==0.0.1.dev5) (4.12.3)\n",
      "Requirement already satisfied: six<2,>=1.15 in /Library/Frameworks/Python.framework/Versions/3.12/lib/python3.12/site-packages (from markdownify>=0.13.1->autoflow-ai==0.0.1.dev5) (1.16.0)\n",
      "Requirement already satisfied: et-xmlfile in /Library/Frameworks/Python.framework/Versions/3.12/lib/python3.12/site-packages (from openpyxl>=3.1.5->autoflow-ai==0.0.1.dev5) (2.0.0)\n",
      "Requirement already satisfied: pyee<13,>=12 in /Library/Frameworks/Python.framework/Versions/3.12/lib/python3.12/site-packages (from playwright>=1.50.0->autoflow-ai==0.0.1.dev5) (12.0.0)\n",
      "Requirement already satisfied: greenlet<4.0.0,>=3.1.1 in /Library/Frameworks/Python.framework/Versions/3.12/lib/python3.12/site-packages (from playwright>=1.50.0->autoflow-ai==0.0.1.dev5) (3.1.1)\n",
      "Requirement already satisfied: iniconfig in /Library/Frameworks/Python.framework/Versions/3.12/lib/python3.12/site-packages (from pytest>=8.3.4->autoflow-ai==0.0.1.dev5) (2.0.0)\n",
      "Requirement already satisfied: packaging in /Library/Frameworks/Python.framework/Versions/3.12/lib/python3.12/site-packages (from pytest>=8.3.4->autoflow-ai==0.0.1.dev5) (24.1)\n",
      "Requirement already satisfied: pluggy<2,>=1.5 in /Library/Frameworks/Python.framework/Versions/3.12/lib/python3.12/site-packages (from pytest>=8.3.4->autoflow-ai==0.0.1.dev5) (1.5.0)\n",
      "Requirement already satisfied: lxml>=3.1.0 in /Library/Frameworks/Python.framework/Versions/3.12/lib/python3.12/site-packages (from python-docx>=1.1.2->autoflow-ai==0.0.1.dev5) (5.3.1)\n",
      "Requirement already satisfied: typing-extensions>=4.9.0 in /Library/Frameworks/Python.framework/Versions/3.12/lib/python3.12/site-packages (from python-docx>=1.1.2->autoflow-ai==0.0.1.dev5) (4.12.2)\n",
      "Requirement already satisfied: Pillow>=3.3.2 in /Library/Frameworks/Python.framework/Versions/3.12/lib/python3.12/site-packages (from python-pptx>=1.0.2->autoflow-ai==0.0.1.dev5) (10.4.0)\n",
      "Requirement already satisfied: XlsxWriter>=0.5.7 in /Library/Frameworks/Python.framework/Versions/3.12/lib/python3.12/site-packages (from python-pptx>=1.0.2->autoflow-ai==0.0.1.dev5) (3.2.2)\n",
      "Requirement already satisfied: SQLAlchemy<2.1.0,>=2.0.14 in /Library/Frameworks/Python.framework/Versions/3.12/lib/python3.12/site-packages (from sqlmodel>=0.0.22->autoflow-ai==0.0.1.dev5) (2.0.38)\n",
      "Requirement already satisfied: numpy<2,>=1 in /Library/Frameworks/Python.framework/Versions/3.12/lib/python3.12/site-packages (from tidb-vector>=0.0.14->autoflow-ai==0.0.1.dev5) (1.26.4)\n",
      "Requirement already satisfied: huggingface-hub<1.0,>=0.16.4 in /Library/Frameworks/Python.framework/Versions/3.12/lib/python3.12/site-packages (from tokenizers>=0.21.0->autoflow-ai==0.0.1.dev5) (0.27.0)\n",
      "Requirement already satisfied: idna>=2.8 in /Library/Frameworks/Python.framework/Versions/3.12/lib/python3.12/site-packages (from anyio->dspy>=2.6.6->autoflow-ai==0.0.1.dev5) (3.10)\n",
      "Requirement already satisfied: sniffio>=1.1 in /Library/Frameworks/Python.framework/Versions/3.12/lib/python3.12/site-packages (from anyio->dspy>=2.6.6->autoflow-ai==0.0.1.dev5) (1.3.1)\n",
      "Requirement already satisfied: soupsieve>1.2 in /Library/Frameworks/Python.framework/Versions/3.12/lib/python3.12/site-packages (from beautifulsoup4<5,>=4.9->markdownify>=0.13.1->autoflow-ai==0.0.1.dev5) (2.6)\n",
      "Requirement already satisfied: filelock in /Library/Frameworks/Python.framework/Versions/3.12/lib/python3.12/site-packages (from datasets<3.0.0,>=2.14.6->dspy>=2.6.6->autoflow-ai==0.0.1.dev5) (3.16.1)\n",
      "Requirement already satisfied: pyarrow>=15.0.0 in /Library/Frameworks/Python.framework/Versions/3.12/lib/python3.12/site-packages (from datasets<3.0.0,>=2.14.6->dspy>=2.6.6->autoflow-ai==0.0.1.dev5) (15.0.2)\n",
      "Requirement already satisfied: dill<0.3.9,>=0.3.0 in /Library/Frameworks/Python.framework/Versions/3.12/lib/python3.12/site-packages (from datasets<3.0.0,>=2.14.6->dspy>=2.6.6->autoflow-ai==0.0.1.dev5) (0.3.8)\n",
      "Requirement already satisfied: xxhash in /Library/Frameworks/Python.framework/Versions/3.12/lib/python3.12/site-packages (from datasets<3.0.0,>=2.14.6->dspy>=2.6.6->autoflow-ai==0.0.1.dev5) (3.5.0)\n",
      "Requirement already satisfied: multiprocess in /Library/Frameworks/Python.framework/Versions/3.12/lib/python3.12/site-packages (from datasets<3.0.0,>=2.14.6->dspy>=2.6.6->autoflow-ai==0.0.1.dev5) (0.70.16)\n",
      "Requirement already satisfied: fsspec<=2024.6.1,>=2023.1.0 in /Library/Frameworks/Python.framework/Versions/3.12/lib/python3.12/site-packages (from fsspec[http]<=2024.6.1,>=2023.1.0->datasets<3.0.0,>=2.14.6->dspy>=2.6.6->autoflow-ai==0.0.1.dev5) (2024.6.1)\n",
      "Requirement already satisfied: pyyaml>=5.1 in /Library/Frameworks/Python.framework/Versions/3.12/lib/python3.12/site-packages (from datasets<3.0.0,>=2.14.6->dspy>=2.6.6->autoflow-ai==0.0.1.dev5) (6.0.2)\n",
      "Requirement already satisfied: certifi in /Library/Frameworks/Python.framework/Versions/3.12/lib/python3.12/site-packages (from httpx>=0.23.0->litellm>=1.61.11->autoflow-ai==0.0.1.dev5) (2024.8.30)\n",
      "Requirement already satisfied: httpcore==1.* in /Library/Frameworks/Python.framework/Versions/3.12/lib/python3.12/site-packages (from httpx>=0.23.0->litellm>=1.61.11->autoflow-ai==0.0.1.dev5) (1.0.5)\n",
      "Requirement already satisfied: h11<0.15,>=0.13 in /Library/Frameworks/Python.framework/Versions/3.12/lib/python3.12/site-packages (from httpcore==1.*->httpx>=0.23.0->litellm>=1.61.11->autoflow-ai==0.0.1.dev5) (0.14.0)\n",
      "Requirement already satisfied: zipp>=3.20 in /Library/Frameworks/Python.framework/Versions/3.12/lib/python3.12/site-packages (from importlib-metadata>=6.8.0->litellm>=1.61.11->autoflow-ai==0.0.1.dev5) (3.21.0)\n",
      "Requirement already satisfied: MarkupSafe>=2.0 in /Library/Frameworks/Python.framework/Versions/3.12/lib/python3.12/site-packages (from jinja2->dspy>=2.6.6->autoflow-ai==0.0.1.dev5) (3.0.2)\n",
      "Requirement already satisfied: attrs>=22.2.0 in /Library/Frameworks/Python.framework/Versions/3.12/lib/python3.12/site-packages (from jsonschema<5.0.0,>=4.22.0->litellm>=1.61.11->autoflow-ai==0.0.1.dev5) (24.2.0)\n",
      "Requirement already satisfied: jsonschema-specifications>=2023.03.6 in /Library/Frameworks/Python.framework/Versions/3.12/lib/python3.12/site-packages (from jsonschema<5.0.0,>=4.22.0->litellm>=1.61.11->autoflow-ai==0.0.1.dev5) (2023.12.1)\n",
      "Requirement already satisfied: referencing>=0.28.4 in /Library/Frameworks/Python.framework/Versions/3.12/lib/python3.12/site-packages (from jsonschema<5.0.0,>=4.22.0->litellm>=1.61.11->autoflow-ai==0.0.1.dev5) (0.35.1)\n",
      "Requirement already satisfied: rpds-py>=0.7.1 in /Library/Frameworks/Python.framework/Versions/3.12/lib/python3.12/site-packages (from jsonschema<5.0.0,>=4.22.0->litellm>=1.61.11->autoflow-ai==0.0.1.dev5) (0.20.0)\n",
      "Requirement already satisfied: dataclasses-json in /Library/Frameworks/Python.framework/Versions/3.12/lib/python3.12/site-packages (from llama-index-core<0.13.0,>=0.12.21->llama-index>=0.12.19->autoflow-ai==0.0.1.dev5) (0.6.7)\n",
      "Requirement already satisfied: deprecated>=1.2.9.3 in /Library/Frameworks/Python.framework/Versions/3.12/lib/python3.12/site-packages (from llama-index-core<0.13.0,>=0.12.21->llama-index>=0.12.19->autoflow-ai==0.0.1.dev5) (1.2.15)\n",
      "Requirement already satisfied: dirtyjson<2.0.0,>=1.0.8 in /Library/Frameworks/Python.framework/Versions/3.12/lib/python3.12/site-packages (from llama-index-core<0.13.0,>=0.12.21->llama-index>=0.12.19->autoflow-ai==0.0.1.dev5) (1.0.8)\n",
      "Requirement already satisfied: filetype<2.0.0,>=1.2.0 in /Library/Frameworks/Python.framework/Versions/3.12/lib/python3.12/site-packages (from llama-index-core<0.13.0,>=0.12.21->llama-index>=0.12.19->autoflow-ai==0.0.1.dev5) (1.2.0)\n",
      "Requirement already satisfied: nest-asyncio<2.0.0,>=1.5.8 in /Library/Frameworks/Python.framework/Versions/3.12/lib/python3.12/site-packages (from llama-index-core<0.13.0,>=0.12.21->llama-index>=0.12.19->autoflow-ai==0.0.1.dev5) (1.6.0)\n",
      "Requirement already satisfied: networkx>=3.0 in /Library/Frameworks/Python.framework/Versions/3.12/lib/python3.12/site-packages (from llama-index-core<0.13.0,>=0.12.21->llama-index>=0.12.19->autoflow-ai==0.0.1.dev5) (3.3)\n",
      "Requirement already satisfied: typing-inspect>=0.8.0 in /Library/Frameworks/Python.framework/Versions/3.12/lib/python3.12/site-packages (from llama-index-core<0.13.0,>=0.12.21->llama-index>=0.12.19->autoflow-ai==0.0.1.dev5) (0.9.0)\n",
      "Requirement already satisfied: wrapt in /Library/Frameworks/Python.framework/Versions/3.12/lib/python3.12/site-packages (from llama-index-core<0.13.0,>=0.12.21->llama-index>=0.12.19->autoflow-ai==0.0.1.dev5) (1.16.0)\n",
      "Requirement already satisfied: aiohappyeyeballs>=2.3.0 in /Library/Frameworks/Python.framework/Versions/3.12/lib/python3.12/site-packages (from aiohttp->litellm>=1.61.11->autoflow-ai==0.0.1.dev5) (2.4.4)\n",
      "Requirement already satisfied: aiosignal>=1.1.2 in /Library/Frameworks/Python.framework/Versions/3.12/lib/python3.12/site-packages (from aiohttp->litellm>=1.61.11->autoflow-ai==0.0.1.dev5) (1.3.2)\n",
      "Requirement already satisfied: frozenlist>=1.1.1 in /Library/Frameworks/Python.framework/Versions/3.12/lib/python3.12/site-packages (from aiohttp->litellm>=1.61.11->autoflow-ai==0.0.1.dev5) (1.5.0)\n",
      "Requirement already satisfied: multidict<7.0,>=4.5 in /Library/Frameworks/Python.framework/Versions/3.12/lib/python3.12/site-packages (from aiohttp->litellm>=1.61.11->autoflow-ai==0.0.1.dev5) (6.1.0)\n",
      "Requirement already satisfied: propcache>=0.2.0 in /Library/Frameworks/Python.framework/Versions/3.12/lib/python3.12/site-packages (from aiohttp->litellm>=1.61.11->autoflow-ai==0.0.1.dev5) (0.2.1)\n",
      "Requirement already satisfied: yarl<2.0,>=1.17.0 in /Library/Frameworks/Python.framework/Versions/3.12/lib/python3.12/site-packages (from aiohttp->litellm>=1.61.11->autoflow-ai==0.0.1.dev5) (1.18.3)\n",
      "Requirement already satisfied: llama-cloud<0.2.0,>=0.1.8 in /Library/Frameworks/Python.framework/Versions/3.12/lib/python3.12/site-packages (from llama-index-indices-managed-llama-cloud>=0.4.0->llama-index>=0.12.19->autoflow-ai==0.0.1.dev5) (0.1.11)\n",
      "Requirement already satisfied: striprtf<0.0.27,>=0.0.26 in /Library/Frameworks/Python.framework/Versions/3.12/lib/python3.12/site-packages (from llama-index-readers-file<0.5.0,>=0.4.0->llama-index>=0.12.19->autoflow-ai==0.0.1.dev5) (0.0.26)\n",
      "Requirement already satisfied: llama-parse>=0.5.0 in /Library/Frameworks/Python.framework/Versions/3.12/lib/python3.12/site-packages (from llama-index-readers-llama-parse>=0.4.0->llama-index>=0.12.19->autoflow-ai==0.0.1.dev5) (0.6.0)\n",
      "Requirement already satisfied: distro<2,>=1.7.0 in /Library/Frameworks/Python.framework/Versions/3.12/lib/python3.12/site-packages (from openai->dspy>=2.6.6->autoflow-ai==0.0.1.dev5) (1.9.0)\n",
      "Requirement already satisfied: jiter<1,>=0.4.0 in /Library/Frameworks/Python.framework/Versions/3.12/lib/python3.12/site-packages (from openai->dspy>=2.6.6->autoflow-ai==0.0.1.dev5) (0.5.0)\n",
      "Requirement already satisfied: annotated-types>=0.6.0 in /Library/Frameworks/Python.framework/Versions/3.12/lib/python3.12/site-packages (from pydantic~=2.0->dspy>=2.6.6->autoflow-ai==0.0.1.dev5) (0.7.0)\n",
      "Requirement already satisfied: pydantic-core==2.23.4 in /Library/Frameworks/Python.framework/Versions/3.12/lib/python3.12/site-packages (from pydantic~=2.0->dspy>=2.6.6->autoflow-ai==0.0.1.dev5) (2.23.4)\n",
      "Requirement already satisfied: charset-normalizer<4,>=2 in /Library/Frameworks/Python.framework/Versions/3.12/lib/python3.12/site-packages (from requests->dspy>=2.6.6->autoflow-ai==0.0.1.dev5) (3.3.2)\n",
      "Requirement already satisfied: urllib3<3,>=1.21.1 in /Library/Frameworks/Python.framework/Versions/3.12/lib/python3.12/site-packages (from requests->dspy>=2.6.6->autoflow-ai==0.0.1.dev5) (2.2.3)\n",
      "Requirement already satisfied: alembic>=1.5.0 in /Library/Frameworks/Python.framework/Versions/3.12/lib/python3.12/site-packages (from optuna->dspy>=2.6.6->autoflow-ai==0.0.1.dev5) (1.14.1)\n",
      "Requirement already satisfied: colorlog in /Library/Frameworks/Python.framework/Versions/3.12/lib/python3.12/site-packages (from optuna->dspy>=2.6.6->autoflow-ai==0.0.1.dev5) (6.9.0)\n",
      "Requirement already satisfied: python-dateutil>=2.8.2 in /Library/Frameworks/Python.framework/Versions/3.12/lib/python3.12/site-packages (from pandas->dspy>=2.6.6->autoflow-ai==0.0.1.dev5) (2.9.0.post0)\n",
      "Requirement already satisfied: pytz>=2020.1 in /Library/Frameworks/Python.framework/Versions/3.12/lib/python3.12/site-packages (from pandas->dspy>=2.6.6->autoflow-ai==0.0.1.dev5) (2024.2)\n",
      "Requirement already satisfied: tzdata>=2022.7 in /Library/Frameworks/Python.framework/Versions/3.12/lib/python3.12/site-packages (from pandas->dspy>=2.6.6->autoflow-ai==0.0.1.dev5) (2024.2)\n",
      "Requirement already satisfied: Mako in /Library/Frameworks/Python.framework/Versions/3.12/lib/python3.12/site-packages (from alembic>=1.5.0->optuna->dspy>=2.6.6->autoflow-ai==0.0.1.dev5) (1.3.9)\n",
      "Requirement already satisfied: llama-cloud-services in /Library/Frameworks/Python.framework/Versions/3.12/lib/python3.12/site-packages (from llama-parse>=0.5.0->llama-index-readers-llama-parse>=0.4.0->llama-index>=0.12.19->autoflow-ai==0.0.1.dev5) (0.6.0)\n",
      "Requirement already satisfied: mypy-extensions>=0.3.0 in /Library/Frameworks/Python.framework/Versions/3.12/lib/python3.12/site-packages (from typing-inspect>=0.8.0->llama-index-core<0.13.0,>=0.12.21->llama-index>=0.12.19->autoflow-ai==0.0.1.dev5) (1.0.0)\n",
      "Requirement already satisfied: marshmallow<4.0.0,>=3.18.0 in /Library/Frameworks/Python.framework/Versions/3.12/lib/python3.12/site-packages (from dataclasses-json->llama-index-core<0.13.0,>=0.12.21->llama-index>=0.12.19->autoflow-ai==0.0.1.dev5) (3.22.0)\n",
      "Note: you may need to restart the kernel to use updated packages.\n",
      "Requirement already satisfied: dotenv in /Library/Frameworks/Python.framework/Versions/3.12/lib/python3.12/site-packages (0.9.9)\n",
      "Requirement already satisfied: sqlalchemy in /Library/Frameworks/Python.framework/Versions/3.12/lib/python3.12/site-packages (2.0.38)\n",
      "Requirement already satisfied: ipywidgets in /Library/Frameworks/Python.framework/Versions/3.12/lib/python3.12/site-packages (8.1.5)\n",
      "Requirement already satisfied: python-dotenv in /Library/Frameworks/Python.framework/Versions/3.12/lib/python3.12/site-packages (from dotenv) (1.0.1)\n",
      "Requirement already satisfied: typing-extensions>=4.6.0 in /Library/Frameworks/Python.framework/Versions/3.12/lib/python3.12/site-packages (from sqlalchemy) (4.12.2)\n",
      "Requirement already satisfied: comm>=0.1.3 in /Users/liangzhiyuan/Library/Python/3.12/lib/python/site-packages (from ipywidgets) (0.2.2)\n",
      "Requirement already satisfied: ipython>=6.1.0 in /Users/liangzhiyuan/Library/Python/3.12/lib/python/site-packages (from ipywidgets) (9.0.0)\n",
      "Requirement already satisfied: traitlets>=4.3.1 in /Users/liangzhiyuan/Library/Python/3.12/lib/python/site-packages (from ipywidgets) (5.14.3)\n",
      "Requirement already satisfied: widgetsnbextension~=4.0.12 in /Library/Frameworks/Python.framework/Versions/3.12/lib/python3.12/site-packages (from ipywidgets) (4.0.13)\n",
      "Requirement already satisfied: jupyterlab-widgets~=3.0.12 in /Library/Frameworks/Python.framework/Versions/3.12/lib/python3.12/site-packages (from ipywidgets) (3.0.13)\n",
      "Requirement already satisfied: decorator in /Library/Frameworks/Python.framework/Versions/3.12/lib/python3.12/site-packages (from ipython>=6.1.0->ipywidgets) (5.1.1)\n",
      "Requirement already satisfied: ipython-pygments-lexers in /Users/liangzhiyuan/Library/Python/3.12/lib/python/site-packages (from ipython>=6.1.0->ipywidgets) (1.1.1)\n",
      "Requirement already satisfied: jedi>=0.16 in /Users/liangzhiyuan/Library/Python/3.12/lib/python/site-packages (from ipython>=6.1.0->ipywidgets) (0.19.2)\n",
      "Requirement already satisfied: matplotlib-inline in /Users/liangzhiyuan/Library/Python/3.12/lib/python/site-packages (from ipython>=6.1.0->ipywidgets) (0.1.7)\n",
      "Requirement already satisfied: pexpect>4.3 in /Users/liangzhiyuan/Library/Python/3.12/lib/python/site-packages (from ipython>=6.1.0->ipywidgets) (4.9.0)\n",
      "Requirement already satisfied: prompt_toolkit<3.1.0,>=3.0.41 in /Users/liangzhiyuan/Library/Python/3.12/lib/python/site-packages (from ipython>=6.1.0->ipywidgets) (3.0.50)\n",
      "Requirement already satisfied: pygments>=2.4.0 in /Library/Frameworks/Python.framework/Versions/3.12/lib/python3.12/site-packages (from ipython>=6.1.0->ipywidgets) (2.18.0)\n",
      "Requirement already satisfied: stack_data in /Users/liangzhiyuan/Library/Python/3.12/lib/python/site-packages (from ipython>=6.1.0->ipywidgets) (0.6.3)\n",
      "Requirement already satisfied: parso<0.9.0,>=0.8.4 in /Users/liangzhiyuan/Library/Python/3.12/lib/python/site-packages (from jedi>=0.16->ipython>=6.1.0->ipywidgets) (0.8.4)\n",
      "Requirement already satisfied: ptyprocess>=0.5 in /Users/liangzhiyuan/Library/Python/3.12/lib/python/site-packages (from pexpect>4.3->ipython>=6.1.0->ipywidgets) (0.7.0)\n",
      "Requirement already satisfied: wcwidth in /Users/liangzhiyuan/Library/Python/3.12/lib/python/site-packages (from prompt_toolkit<3.1.0,>=3.0.41->ipython>=6.1.0->ipywidgets) (0.2.13)\n",
      "Requirement already satisfied: executing>=1.2.0 in /Library/Frameworks/Python.framework/Versions/3.12/lib/python3.12/site-packages (from stack_data->ipython>=6.1.0->ipywidgets) (2.1.0)\n",
      "Requirement already satisfied: asttokens>=2.1.0 in /Library/Frameworks/Python.framework/Versions/3.12/lib/python3.12/site-packages (from stack_data->ipython>=6.1.0->ipywidgets) (2.4.1)\n",
      "Requirement already satisfied: pure-eval in /Users/liangzhiyuan/Library/Python/3.12/lib/python/site-packages (from stack_data->ipython>=6.1.0->ipywidgets) (0.2.3)\n",
      "Requirement already satisfied: six>=1.12.0 in /Library/Frameworks/Python.framework/Versions/3.12/lib/python3.12/site-packages (from asttokens>=2.1.0->stack_data->ipython>=6.1.0->ipywidgets) (1.16.0)\n",
      "Note: you may need to restart the kernel to use updated packages.\n"
     ]
    }
   ],
   "source": [
    "%pip install autoflow-ai==0.0.1.dev5\n",
    "%pip install dotenv sqlalchemy ipywidgets pymysql"
   ]
  },
  {
   "cell_type": "markdown",
   "id": "0b6d5be6",
   "metadata": {},
   "source": [
    "#### Configure environment variable"
   ]
  },
  {
   "cell_type": "code",
   "execution_count": 3,
   "id": "8163102a04a2ffde",
   "metadata": {
    "jupyter": {
     "is_executing": true
    }
   },
   "outputs": [],
   "source": [
    "# Create .env file\n",
    "%cp .env.example .env"
   ]
  },
  {
   "cell_type": "code",
   "execution_count": 9,
   "id": "b6cdb4d5",
   "metadata": {},
   "outputs": [
    {
     "data": {
      "text/plain": [
       "True"
      ]
     },
     "execution_count": 9,
     "metadata": {},
     "output_type": "execute_result"
    }
   ],
   "source": [
    "import logging\n",
    "import os\n",
    "import dotenv\n",
    "\n",
    "logger = logging.getLogger(__name__)\n",
    "\n",
    "dotenv.load_dotenv()"
   ]
  },
  {
   "cell_type": "markdown",
   "id": "a38fde21",
   "metadata": {},
   "source": [
    "#### Init Autoflow"
   ]
  },
  {
   "cell_type": "code",
   "execution_count": 10,
   "id": "84f43a00",
   "metadata": {},
   "outputs": [],
   "source": [
    "from sqlalchemy import create_engine\n",
    "from autoflow import Autoflow\n",
    "\n",
    "db_engine = create_engine(os.getenv(\"DATABASE_URL\"))\n",
    "af = Autoflow(db_engine=db_engine)"
   ]
  },
  {
   "cell_type": "markdown",
   "id": "5afea9b7",
   "metadata": {},
   "source": [
    "#### Create knowledge base"
   ]
  },
  {
   "cell_type": "code",
   "execution_count": 11,
   "id": "9e1ff63c",
   "metadata": {},
   "outputs": [
    {
     "data": {
      "text/plain": [
       "KnowledgeBase(id=UUID('655b6cf3-8b30-4839-ba8b-5ed3c502f30e'), name='New KB', index_methods=[<IndexMethod.VECTOR_SEARCH: 'VECTOR_SEARCH'>, <IndexMethod.KNOWLEDGE_GRAPH: 'KNOWLEDGE_GRAPH'>], description='This is a knowledge base for testing', chunking_config=GeneralChunkingConfig(mode=<ChunkingMode.GENERAL: 'general'>, chunk_size=1200, chunk_overlap=200, paragraph_separator='\\n\\n\\n'), data_sources=[])"
      ]
     },
     "execution_count": 11,
     "metadata": {},
     "output_type": "execute_result"
    }
   ],
   "source": [
    "from autoflow.schema import IndexMethod\n",
    "from autoflow.llms.chat_models import ChatModel\n",
    "from autoflow.llms.embeddings import EmbeddingModel\n",
    "\n",
    "chat_model = ChatModel(\"gpt-4o-mini\", api_key=os.getenv(\"OPENAI_API_KEY\"))\n",
    "embed_model = EmbeddingModel(\n",
    "    model_name=\"text-embedding-3-small\",\n",
    "    dimensions=1536,\n",
    "    api_key=os.getenv(\"OPENAI_API_KEY\"),\n",
    ")\n",
    "\n",
    "# Create Knowledge base\n",
    "kb = af.create_knowledge_base(\n",
    "    name=\"New KB\",\n",
    "    description=\"This is a knowledge base for testing\",\n",
    "    index_methods=[IndexMethod.VECTOR_SEARCH, IndexMethod.KNOWLEDGE_GRAPH],\n",
    "    chat_model=chat_model,\n",
    "    embedding_model=embed_model,\n",
    ")\n",
    "kb"
   ]
  },
  {
   "cell_type": "markdown",
   "id": "4cfc2d80",
   "metadata": {},
   "source": [
    "#### Import documents from files"
   ]
  },
  {
   "cell_type": "code",
   "execution_count": 12,
   "id": "77dbdac1",
   "metadata": {},
   "outputs": [
    {
     "data": {
      "text/plain": [
       "'/Users/liangzhiyuan/Projects/tidb.ai/core/tests'"
      ]
     },
     "execution_count": 12,
     "metadata": {},
     "output_type": "execute_result"
    }
   ],
   "source": [
    "import os\n",
    "\n",
    "current_dir = os.path.dirname(os.path.abspath(\"__file__\"))\n",
    "current_dir"
   ]
  },
  {
   "cell_type": "code",
   "execution_count": 13,
   "id": "f729326f",
   "metadata": {},
   "outputs": [
    {
     "data": {
      "text/plain": [
       "[]"
      ]
     },
     "execution_count": 13,
     "metadata": {},
     "output_type": "execute_result"
    }
   ],
   "source": [
    "from pathlib import Path\n",
    "\n",
    "kb.import_documents_from_files(\n",
    "    files=[\n",
    "        Path(current_dir) / \"fixtures\" / \"tidb-overview.md\",\n",
    "    ]\n",
    ")"
   ]
  },
  {
   "cell_type": "code",
   "execution_count": 14,
   "id": "259ad7a9",
   "metadata": {},
   "outputs": [
    {
     "data": {
      "text/plain": [
       "[(0.7382171054172685,\n",
       "  'What is TiDB Self-Managed Key features\\n<!-- Localization note for TiDB:\\n- English: use distributed SQL, and start to emphasize HTAP\\n- Chinese: can keep \"NewSQL\" and emphasize one-stop real-time HTAP (\"一栈式实时 HTAP\")\\n- Japanese: use NewSQL because it is well-recognized\\n-->\\nTiDB (/\\'taɪdiːbi:/, \"Ti\" stands for Titanium) is an open-source distributed SQL database that supports Hybrid Transactional and Analytical Processing (HTAP) workloads. It is MySQL compatible and features horizontal scalability, strong consistency, and high availability. The goal of TiDB is to provide users with a one-stop database solution that covers OLTP (Online Transactional Processing), OLAP (Online Analytical Processing), and HTAP services. TiDB is suitable for various use cases that require high availability and strong consistency with large-scale data.\\nTiDB Self-Managed is a product option of TiDB, where users or organizations can deploy and manage TiDB on their own infrastructure with complete flexibility. With TiDB Self-Managed, you can enjoy the power of open source, distributed SQL while retaining full control over your environment.\\nThe following video introduces key features of TiDB.\\n\\n- **Easy horizontal scaling**\\nThe TiDB architecture design separates computing from storage, letting you scale out or scale in the computing or storage capacity online as needed. The scaling process is transparent to application operations and maintenance staff.\\n- **Financial-grade high availability**\\nData is stored in multiple replicas, and the Multi-Raft protocol is used to obtain the transaction log. A transaction can only be committed when data has been successfully written into the majority of replicas. This guarantees strong consistency and availability when a minority of replicas go down. You can configure the geographic location and number of replicas as needed to meet different disaster tolerance levels.\\n- **Real-time HTAP**\\nTiDB provides two storage engines: TiKV, a row-based storage engine, and TiFlash, a columnar storage engine. TiFlash uses the Multi-Raft Learner protocol to replicate data from TiKV in real time, ensuring consistent data between the TiKV row-based storage engine and the TiFlash columnar storage engine. TiKV and TiFlash can be deployed on different machines as needed to solve the problem of HTAP resource isolation.\\n- **Cloud-native distributed database**\\nTiDB is a distributed database designed for the cloud, providing flexible scalability, reliability, and security on the cloud platform. Users can elastically scale TiDB to meet the requirements of their changing workloads. In TiDB, each piece of data has at least 3 replicas, which can be scheduled in different cloud availability zones to tolerate the outage of a whole data center. TiDB Operator helps manage TiDB on Kubernetes and automates tasks related to operating the TiDB cluster, making TiDB easier to deploy on any cloud that provides managed Kubernetes. TiDB Cloud, the fully-managed TiDB service, is the easiest, most economical, and most resilient way to unlock the full power of TiDB in the cloud, allowing you to deploy and run TiDB clusters with just a few clicks.\\n- **Compatible with the MySQL protocol and MySQL ecosystem**\\nTiDB is compatible with the MySQL protocol, common features of MySQL, and the MySQL ecosystem. To migrate applications to TiDB, you do not need to change a single line of code in many cases, or only need to modify a small amount of code. In addition, TiDB provides a series of data migration tools to help easily migrate application data into TiDB.'),\n",
       " (0.7380258973218252,\n",
       "  'What is TiDB Self-Managed See also\\n- TiDB Architecture\\n- TiDB Storage\\n- TiDB Computing\\n- TiDB Scheduling')]"
      ]
     },
     "execution_count": 14,
     "metadata": {},
     "output_type": "execute_result"
    }
   ],
   "source": [
    "result = kb.search_documents(\n",
    "    query=\"What is TiDB?\",\n",
    "    similarity_top_k=2,\n",
    ")\n",
    "[(c.score, c.chunk.text) for c in result.chunks]"
   ]
  },
  {
   "cell_type": "code",
   "execution_count": 15,
   "id": "6fc5bc93",
   "metadata": {},
   "outputs": [
    {
     "name": "stderr",
     "output_type": "stream",
     "text": [
      "/Library/Frameworks/Python.framework/Versions/3.12/lib/python3.12/site-packages/sqlmodel/orm/session.py:66: SAWarning: SELECT statement has a cartesian product between FROM element(s) \"entities_655b6cf3-8b30-4839-ba8b-5ed3c502f30e\" and FROM element \"candidates\".  Apply join condition(s) between each element to resolve.\n",
      "  results = super().execute(\n"
     ]
    },
    {
     "data": {
      "text/plain": [
       "['TiDB -> TiDB can be deployed in a Self-Managed model, providing users with control over their database setup. -> Self-Managed',\n",
       " 'TiDB -> TiDB Self-Managed is a deployment option of TiDB that allows users to manage the database on their own infrastructure. -> TiDB Self-Managed',\n",
       " 'TiDB -> TiDB utilizes TiKV as its row-based storage engine to support real-time data replication. -> TiKV',\n",
       " 'TiDB -> TiDB employs TiFlash as its columnar storage engine to ensure consistent data storage and real-time replication from TiKV. -> TiFlash',\n",
       " 'TiDB -> TiDB Operator facilitates the management of TiDB on Kubernetes, automating operational tasks. -> TiDB Operator',\n",
       " 'TiDB -> TiDB Cloud is the fully-managed service that allows users to deploy and run TiDB clusters in the cloud. -> TiDB Cloud',\n",
       " 'TiDB Self-Managed -> TiDB Self-Managed utilizes TiDB Architecture to structure its deployment and operations. -> TiDB Architecture',\n",
       " 'TiDB Self-Managed -> TiDB Self-Managed relies on TiDB Storage for data management and persistence. -> TiDB Storage',\n",
       " 'TiDB Self-Managed -> TiDB Self-Managed employs TiDB Computing to execute queries and process data. -> TiDB Computing',\n",
       " 'TiDB Self-Managed -> TiDB Self-Managed incorporates TiDB Scheduling to manage task execution and resource allocation. -> TiDB Scheduling']"
      ]
     },
     "execution_count": 15,
     "metadata": {},
     "output_type": "execute_result"
    }
   ],
   "source": [
    "kg = kb.search_knowledge_graph(\n",
    "    query=\"What is TiDB?\",\n",
    ")\n",
    "[(r.rag_description) for r in kg.relationships]"
   ]
  }
 ],
 "metadata": {
  "kernelspec": {
   "display_name": "Python 3",
   "language": "python",
   "name": "python3"
  },
  "language_info": {
   "codemirror_mode": {
    "name": "ipython",
    "version": 3
   },
   "file_extension": ".py",
   "mimetype": "text/x-python",
   "name": "python",
   "nbconvert_exporter": "python",
   "pygments_lexer": "ipython3",
   "version": "3.12.3"
  }
 },
 "nbformat": 4,
 "nbformat_minor": 5
}
