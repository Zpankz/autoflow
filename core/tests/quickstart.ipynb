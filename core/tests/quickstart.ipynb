{
 "cells": [
  {
   "cell_type": "code",
   "execution_count": null,
   "id": "initial_id",
   "metadata": {
    "collapsed": true,
    "jupyter": {
     "is_executing": true
    }
   },
   "outputs": [],
   "source": [
    "%pip install autoflow-ai==0.0.1.dev4\n",
    "%pip install dotenv\n",
    "%pip install sqlalchemy"
   ]
  },
  {
   "cell_type": "code",
   "execution_count": 42,
   "id": "b6cdb4d5",
   "metadata": {},
   "outputs": [
    {
     "data": {
      "text/plain": [
       "True"
      ]
     },
     "execution_count": 42,
     "metadata": {},
     "output_type": "execute_result"
    }
   ],
   "source": [
    "import logging\n",
    "import os\n",
    "import dotenv\n",
    "from sqlalchemy import create_engine\n",
    "\n",
    "logger = logging.getLogger(__name__)\n",
    "\n",
    "dotenv.load_dotenv()"
   ]
  },
  {
   "cell_type": "markdown",
   "id": "5afea9b7",
   "metadata": {},
   "source": [
    "#### Create knowledge base"
   ]
  },
  {
   "cell_type": "code",
   "execution_count": 44,
   "id": "9e1ff63c",
   "metadata": {},
   "outputs": [
    {
     "name": "stderr",
     "output_type": "stream",
     "text": [
      "INFO:autoflow.storage.doc_store.tidb.tidb_doc_store:Document table <documents> is already exists, no action to do.\n",
      "INFO:autoflow.storage.doc_store.tidb.tidb_doc_store:Chunk table <chunks_fcf4123e-7c90-43d0-b5cd-746966ca8207> has been created successfully.\n",
      "INFO:autoflow.storage.graph_store.tidb.tidb_graph_store:Entities table <entities_fcf4123e-7c90-43d0-b5cd-746966ca8207> has been created successfully.\n",
      "INFO:autoflow.storage.graph_store.tidb.tidb_graph_store:Relationships table <relationships_fcf4123e-7c90-43d0-b5cd-746966ca8207> has been created successfully.\n"
     ]
    },
    {
     "data": {
      "text/plain": [
       "KnowledgeBase(id=UUID('fcf4123e-7c90-43d0-b5cd-746966ca8207'), name='New KB', index_methods=[<IndexMethod.VECTOR_SEARCH: 'VECTOR_SEARCH'>, <IndexMethod.KNOWLEDGE_GRAPH: 'KNOWLEDGE_GRAPH'>], description='This is a knowledge base for testing', chunking_config=GeneralChunkingConfig(mode=<ChunkingMode.GENERAL: 'general'>, chunk_size=1200, chunk_overlap=200, paragraph_separator='\\n\\n\\n'), data_sources=[])"
      ]
     },
     "execution_count": 44,
     "metadata": {},
     "output_type": "execute_result"
    }
   ],
   "source": [
    "from autoflow import Autoflow\n",
    "from autoflow.schema import IndexMethod\n",
    "from autoflow.llms.chat_models import ChatModel\n",
    "from autoflow.llms.embeddings import EmbeddingModel\n",
    "\n",
    "\n",
    "db_engine = create_engine(os.getenv(\"DATABASE_URL\"))\n",
    "af = Autoflow(db_engine=db_engine)\n",
    "\n",
    "chat_model = ChatModel(\"gpt-4o-mini\")\n",
    "embed_model = EmbeddingModel(model_name=\"text-embedding-3-small\", dimensions=1536)\n",
    "\n",
    "# Create Knowledge base\n",
    "kb = af.create_knowledge_base(\n",
    "    name=\"New KB\",\n",
    "    description=\"This is a knowledge base for testing\",\n",
    "    index_methods=[IndexMethod.VECTOR_SEARCH, IndexMethod.KNOWLEDGE_GRAPH],\n",
    "    chat_model=chat_model,\n",
    "    embedding_model=embed_model,\n",
    ")\n",
    "kb"
   ]
  },
  {
   "cell_type": "markdown",
   "id": "4cfc2d80",
   "metadata": {},
   "source": [
    "#### Import documents from files"
   ]
  },
  {
   "cell_type": "code",
   "execution_count": 45,
   "id": "77dbdac1",
   "metadata": {},
   "outputs": [
    {
     "data": {
      "text/plain": [
       "'/Users/liangzhiyuan/Projects/tidb.ai/core/tests'"
      ]
     },
     "execution_count": 45,
     "metadata": {},
     "output_type": "execute_result"
    }
   ],
   "source": [
    "import os\n",
    "\n",
    "current_dir = os.path.dirname(os.path.abspath(\"__file__\"))\n",
    "current_dir"
   ]
  },
  {
   "cell_type": "code",
   "execution_count": 46,
   "id": "f729326f",
   "metadata": {},
   "outputs": [
    {
     "name": "stderr",
     "output_type": "stream",
     "text": [
      "INFO:autoflow.storage.graph_store.tidb.tidb_graph_store:Save entities for relationship: TiDB -> TiDB can be deployed in a Self-Managed model, providing users with control over their database setup. -> Self-Managed\n",
      "INFO:autoflow.storage.graph_store.tidb.tidb_graph_store:Save entities for relationship: TiDB -> TiDB Self-Managed is a deployment option of TiDB that allows users to manage the database on their own infrastructure. -> TiDB Self-Managed\n",
      "INFO:autoflow.storage.graph_store.tidb.tidb_graph_store:Save entities for relationship: TiDB -> TiDB utilizes TiKV as its row-based storage engine to support real-time data replication. -> TiKV\n",
      "INFO:autoflow.storage.graph_store.tidb.tidb_graph_store:Save entities for relationship: TiDB -> TiDB employs TiFlash as its columnar storage engine to ensure consistent data storage and real-time replication from TiKV. -> TiFlash\n",
      "INFO:autoflow.storage.graph_store.tidb.tidb_graph_store:Save entities for relationship: TiDB -> TiDB Operator facilitates the management of TiDB on Kubernetes, automating operational tasks. -> TiDB Operator\n",
      "INFO:autoflow.storage.graph_store.tidb.tidb_graph_store:Save entities for relationship: TiDB -> TiDB Cloud is the fully-managed service that allows users to deploy and run TiDB clusters in the cloud. -> TiDB Cloud\n",
      "INFO:autoflow.storage.graph_store.tidb.tidb_graph_store:Save entities for relationship: TiDB Self-Managed -> TiDB Self-Managed utilizes TiDB Architecture to structure its deployment and operations. -> TiDB Architecture\n",
      "INFO:autoflow.storage.graph_store.tidb.tidb_graph_store:Save entities for relationship: TiDB Self-Managed -> TiDB Self-Managed relies on TiDB Storage for data management and persistence. -> TiDB Storage\n",
      "INFO:autoflow.storage.graph_store.tidb.tidb_graph_store:Save entities for relationship: TiDB Self-Managed -> TiDB Self-Managed employs TiDB Computing to execute queries and process data. -> TiDB Computing\n",
      "INFO:autoflow.storage.graph_store.tidb.tidb_graph_store:Save entities for relationship: TiDB Self-Managed -> TiDB Self-Managed incorporates TiDB Scheduling to manage task execution and resource allocation. -> TiDB Scheduling\n"
     ]
    },
    {
     "data": {
      "text/plain": [
       "[]"
      ]
     },
     "execution_count": 46,
     "metadata": {},
     "output_type": "execute_result"
    }
   ],
   "source": [
    "from pathlib import Path\n",
    "\n",
    "kb.import_documents_from_files(\n",
    "    files=[\n",
    "        Path(current_dir) / \"fixtures\" / \"tidb-overview.md\",\n",
    "    ]\n",
    ")"
   ]
  },
  {
   "cell_type": "code",
   "execution_count": 47,
   "id": "259ad7a9",
   "metadata": {},
   "outputs": [
    {
     "data": {
      "text/plain": [
       "[(0.7382171054172685,\n",
       "  'What is TiDB Self-Managed Key features\\n<!-- Localization note for TiDB:\\n- English: use distributed SQL, and start to emphasize HTAP\\n- Chinese: can keep \"NewSQL\" and emphasize one-stop real-time HTAP (\"一栈式实时 HTAP\")\\n- Japanese: use NewSQL because it is well-recognized\\n-->\\nTiDB (/\\'taɪdiːbi:/, \"Ti\" stands for Titanium) is an open-source distributed SQL database that supports Hybrid Transactional and Analytical Processing (HTAP) workloads. It is MySQL compatible and features horizontal scalability, strong consistency, and high availability. The goal of TiDB is to provide users with a one-stop database solution that covers OLTP (Online Transactional Processing), OLAP (Online Analytical Processing), and HTAP services. TiDB is suitable for various use cases that require high availability and strong consistency with large-scale data.\\nTiDB Self-Managed is a product option of TiDB, where users or organizations can deploy and manage TiDB on their own infrastructure with complete flexibility. With TiDB Self-Managed, you can enjoy the power of open source, distributed SQL while retaining full control over your environment.\\nThe following video introduces key features of TiDB.\\n\\n- **Easy horizontal scaling**\\nThe TiDB architecture design separates computing from storage, letting you scale out or scale in the computing or storage capacity online as needed. The scaling process is transparent to application operations and maintenance staff.\\n- **Financial-grade high availability**\\nData is stored in multiple replicas, and the Multi-Raft protocol is used to obtain the transaction log. A transaction can only be committed when data has been successfully written into the majority of replicas. This guarantees strong consistency and availability when a minority of replicas go down. You can configure the geographic location and number of replicas as needed to meet different disaster tolerance levels.\\n- **Real-time HTAP**\\nTiDB provides two storage engines: TiKV, a row-based storage engine, and TiFlash, a columnar storage engine. TiFlash uses the Multi-Raft Learner protocol to replicate data from TiKV in real time, ensuring consistent data between the TiKV row-based storage engine and the TiFlash columnar storage engine. TiKV and TiFlash can be deployed on different machines as needed to solve the problem of HTAP resource isolation.\\n- **Cloud-native distributed database**\\nTiDB is a distributed database designed for the cloud, providing flexible scalability, reliability, and security on the cloud platform. Users can elastically scale TiDB to meet the requirements of their changing workloads. In TiDB, each piece of data has at least 3 replicas, which can be scheduled in different cloud availability zones to tolerate the outage of a whole data center. TiDB Operator helps manage TiDB on Kubernetes and automates tasks related to operating the TiDB cluster, making TiDB easier to deploy on any cloud that provides managed Kubernetes. TiDB Cloud, the fully-managed TiDB service, is the easiest, most economical, and most resilient way to unlock the full power of TiDB in the cloud, allowing you to deploy and run TiDB clusters with just a few clicks.\\n- **Compatible with the MySQL protocol and MySQL ecosystem**\\nTiDB is compatible with the MySQL protocol, common features of MySQL, and the MySQL ecosystem. To migrate applications to TiDB, you do not need to change a single line of code in many cases, or only need to modify a small amount of code. In addition, TiDB provides a series of data migration tools to help easily migrate application data into TiDB.'),\n",
       " (0.7380258973218252,\n",
       "  'What is TiDB Self-Managed See also\\n- TiDB Architecture\\n- TiDB Storage\\n- TiDB Computing\\n- TiDB Scheduling')]"
      ]
     },
     "execution_count": 47,
     "metadata": {},
     "output_type": "execute_result"
    }
   ],
   "source": [
    "result = kb.search_documents(\n",
    "    query=\"What is TiDB?\",\n",
    "    similarity_top_k=2,\n",
    ")\n",
    "[(c.score, c.chunk.text) for c in result.chunks]"
   ]
  },
  {
   "cell_type": "code",
   "execution_count": 50,
   "id": "6fc5bc93",
   "metadata": {},
   "outputs": [
    {
     "name": "stderr",
     "output_type": "stream",
     "text": [
      "INFO:autoflow.storage.graph_store.tidb.tidb_graph_store:Debug - SQL Query: \n",
      "SELECT `relationships_fcf4123e-7c90-43d0-b5cd-746966ca8207`.id, `relationships_fcf4123e-7c90-43d0-b5cd-746966ca8207`.description, `relationships_fcf4123e-7c90-43d0-b5cd-746966ca8207`.description_vec, `relationships_fcf4123e-7c90-43d0-b5cd-746966ca8207`.source_entity_id, `relationships_fcf4123e-7c90-43d0-b5cd-746966ca8207`.target_entity_id, `relationships_fcf4123e-7c90-43d0-b5cd-746966ca8207`.meta, `relationships_fcf4123e-7c90-43d0-b5cd-746966ca8207`.weight, `relationships_fcf4123e-7c90-43d0-b5cd-746966ca8207`.chunk_id, `relationships_fcf4123e-7c90-43d0-b5cd-746966ca8207`.document_id, `relationships_fcf4123e-7c90-43d0-b5cd-746966ca8207`.created_at, `relationships_fcf4123e-7c90-43d0-b5cd-746966ca8207`.updated_at, %s - anon_1.embedding_distance AS similarity_score, `entities_fcf4123e-7c90-43d0-b5cd-746966ca8207_1`.id AS id_1, `entities_fcf4123e-7c90-43d0-b5cd-746966ca8207_1`.entity_type, `entities_fcf4123e-7c90-43d0-b5cd-746966ca8207_1`.name, `entities_fcf4123e-7c90-43d0-b5cd-746966ca8207_1`.description AS description_1, `entities_fcf4123e-7c90-43d0-b5cd-746966ca8207_1`.description_vec AS description_vec_1, `entities_fcf4123e-7c90-43d0-b5cd-746966ca8207_1`.meta AS meta_1, `entities_fcf4123e-7c90-43d0-b5cd-746966ca8207_1`.meta_vec, `entities_fcf4123e-7c90-43d0-b5cd-746966ca8207_1`.synopsis_info, `entities_fcf4123e-7c90-43d0-b5cd-746966ca8207_2`.id AS id_2, `entities_fcf4123e-7c90-43d0-b5cd-746966ca8207_2`.entity_type AS entity_type_1, `entities_fcf4123e-7c90-43d0-b5cd-746966ca8207_2`.name AS name_1, `entities_fcf4123e-7c90-43d0-b5cd-746966ca8207_2`.description AS description_2, `entities_fcf4123e-7c90-43d0-b5cd-746966ca8207_2`.description_vec AS description_vec_2, `entities_fcf4123e-7c90-43d0-b5cd-746966ca8207_2`.meta AS meta_2, `entities_fcf4123e-7c90-43d0-b5cd-746966ca8207_2`.meta_vec AS meta_vec_1, `entities_fcf4123e-7c90-43d0-b5cd-746966ca8207_2`.synopsis_info AS synopsis_info_1 \n",
      "FROM `relationships_fcf4123e-7c90-43d0-b5cd-746966ca8207` INNER JOIN (SELECT `relationships_fcf4123e-7c90-43d0-b5cd-746966ca8207`.id AS relationship_id, VEC_COSINE_DISTANCE(`relationships_fcf4123e-7c90-43d0-b5cd-746966ca8207`.description_vec, %s) AS embedding_distance \n",
      "FROM `relationships_fcf4123e-7c90-43d0-b5cd-746966ca8207` ORDER BY embedding_distance ASC \n",
      " LIMIT %s) AS anon_1 ON `relationships_fcf4123e-7c90-43d0-b5cd-746966ca8207`.id = anon_1.relationship_id LEFT OUTER JOIN `entities_fcf4123e-7c90-43d0-b5cd-746966ca8207` AS `entities_fcf4123e-7c90-43d0-b5cd-746966ca8207_1` ON `relationships_fcf4123e-7c90-43d0-b5cd-746966ca8207`.source_entity_id = `entities_fcf4123e-7c90-43d0-b5cd-746966ca8207_1`.id LEFT OUTER JOIN `entities_fcf4123e-7c90-43d0-b5cd-746966ca8207` AS `entities_fcf4123e-7c90-43d0-b5cd-746966ca8207_2` ON `relationships_fcf4123e-7c90-43d0-b5cd-746966ca8207`.target_entity_id = `entities_fcf4123e-7c90-43d0-b5cd-746966ca8207_2`.id \n",
      "WHERE embedding_distance >= %s AND embedding_distance <= %s ORDER BY similarity_score DESC \n",
      " LIMIT %s\n"
     ]
    },
    {
     "name": "stderr",
     "output_type": "stream",
     "text": [
      "INFO:autoflow.storage.graph_store.tidb.tidb_graph_store:Debug - SQL Query: \n",
      "SELECT `relationships_fcf4123e-7c90-43d0-b5cd-746966ca8207`.id, `relationships_fcf4123e-7c90-43d0-b5cd-746966ca8207`.description, `relationships_fcf4123e-7c90-43d0-b5cd-746966ca8207`.description_vec, `relationships_fcf4123e-7c90-43d0-b5cd-746966ca8207`.source_entity_id, `relationships_fcf4123e-7c90-43d0-b5cd-746966ca8207`.target_entity_id, `relationships_fcf4123e-7c90-43d0-b5cd-746966ca8207`.meta, `relationships_fcf4123e-7c90-43d0-b5cd-746966ca8207`.weight, `relationships_fcf4123e-7c90-43d0-b5cd-746966ca8207`.chunk_id, `relationships_fcf4123e-7c90-43d0-b5cd-746966ca8207`.document_id, `relationships_fcf4123e-7c90-43d0-b5cd-746966ca8207`.created_at, `relationships_fcf4123e-7c90-43d0-b5cd-746966ca8207`.updated_at, %s - anon_1.embedding_distance AS similarity_score, `entities_fcf4123e-7c90-43d0-b5cd-746966ca8207_1`.id AS id_1, `entities_fcf4123e-7c90-43d0-b5cd-746966ca8207_1`.entity_type, `entities_fcf4123e-7c90-43d0-b5cd-746966ca8207_1`.name, `entities_fcf4123e-7c90-43d0-b5cd-746966ca8207_1`.description AS description_1, `entities_fcf4123e-7c90-43d0-b5cd-746966ca8207_1`.description_vec AS description_vec_1, `entities_fcf4123e-7c90-43d0-b5cd-746966ca8207_1`.meta AS meta_1, `entities_fcf4123e-7c90-43d0-b5cd-746966ca8207_1`.meta_vec, `entities_fcf4123e-7c90-43d0-b5cd-746966ca8207_1`.synopsis_info, `entities_fcf4123e-7c90-43d0-b5cd-746966ca8207_2`.id AS id_2, `entities_fcf4123e-7c90-43d0-b5cd-746966ca8207_2`.entity_type AS entity_type_1, `entities_fcf4123e-7c90-43d0-b5cd-746966ca8207_2`.name AS name_1, `entities_fcf4123e-7c90-43d0-b5cd-746966ca8207_2`.description AS description_2, `entities_fcf4123e-7c90-43d0-b5cd-746966ca8207_2`.description_vec AS description_vec_2, `entities_fcf4123e-7c90-43d0-b5cd-746966ca8207_2`.meta AS meta_2, `entities_fcf4123e-7c90-43d0-b5cd-746966ca8207_2`.meta_vec AS meta_vec_1, `entities_fcf4123e-7c90-43d0-b5cd-746966ca8207_2`.synopsis_info AS synopsis_info_1 \n",
      "FROM `relationships_fcf4123e-7c90-43d0-b5cd-746966ca8207` INNER JOIN (SELECT `relationships_fcf4123e-7c90-43d0-b5cd-746966ca8207`.id AS relationship_id, VEC_COSINE_DISTANCE(`relationships_fcf4123e-7c90-43d0-b5cd-746966ca8207`.description_vec, %s) AS embedding_distance \n",
      "FROM `relationships_fcf4123e-7c90-43d0-b5cd-746966ca8207` ORDER BY embedding_distance ASC \n",
      " LIMIT %s) AS anon_1 ON `relationships_fcf4123e-7c90-43d0-b5cd-746966ca8207`.id = anon_1.relationship_id LEFT OUTER JOIN `entities_fcf4123e-7c90-43d0-b5cd-746966ca8207` AS `entities_fcf4123e-7c90-43d0-b5cd-746966ca8207_1` ON `relationships_fcf4123e-7c90-43d0-b5cd-746966ca8207`.source_entity_id = `entities_fcf4123e-7c90-43d0-b5cd-746966ca8207_1`.id LEFT OUTER JOIN `entities_fcf4123e-7c90-43d0-b5cd-746966ca8207` AS `entities_fcf4123e-7c90-43d0-b5cd-746966ca8207_2` ON `relationships_fcf4123e-7c90-43d0-b5cd-746966ca8207`.target_entity_id = `entities_fcf4123e-7c90-43d0-b5cd-746966ca8207_2`.id \n",
      "WHERE embedding_distance >= %s AND embedding_distance <= %s AND (`relationships_fcf4123e-7c90-43d0-b5cd-746966ca8207`.id NOT IN (__[POSTCOMPILE_id_3])) AND `relationships_fcf4123e-7c90-43d0-b5cd-746966ca8207`.source_entity_id IN (__[POSTCOMPILE_source_entity_id_1]) ORDER BY similarity_score DESC \n",
      " LIMIT %s\n",
      "INFO:autoflow.storage.graph_store.tidb.tidb_graph_store:Debug - SQL Query: \n",
      "SELECT `relationships_fcf4123e-7c90-43d0-b5cd-746966ca8207`.id, `relationships_fcf4123e-7c90-43d0-b5cd-746966ca8207`.description, `relationships_fcf4123e-7c90-43d0-b5cd-746966ca8207`.description_vec, `relationships_fcf4123e-7c90-43d0-b5cd-746966ca8207`.source_entity_id, `relationships_fcf4123e-7c90-43d0-b5cd-746966ca8207`.target_entity_id, `relationships_fcf4123e-7c90-43d0-b5cd-746966ca8207`.meta, `relationships_fcf4123e-7c90-43d0-b5cd-746966ca8207`.weight, `relationships_fcf4123e-7c90-43d0-b5cd-746966ca8207`.chunk_id, `relationships_fcf4123e-7c90-43d0-b5cd-746966ca8207`.document_id, `relationships_fcf4123e-7c90-43d0-b5cd-746966ca8207`.created_at, `relationships_fcf4123e-7c90-43d0-b5cd-746966ca8207`.updated_at, %s - anon_1.embedding_distance AS similarity_score, `entities_fcf4123e-7c90-43d0-b5cd-746966ca8207_1`.id AS id_1, `entities_fcf4123e-7c90-43d0-b5cd-746966ca8207_1`.entity_type, `entities_fcf4123e-7c90-43d0-b5cd-746966ca8207_1`.name, `entities_fcf4123e-7c90-43d0-b5cd-746966ca8207_1`.description AS description_1, `entities_fcf4123e-7c90-43d0-b5cd-746966ca8207_1`.description_vec AS description_vec_1, `entities_fcf4123e-7c90-43d0-b5cd-746966ca8207_1`.meta AS meta_1, `entities_fcf4123e-7c90-43d0-b5cd-746966ca8207_1`.meta_vec, `entities_fcf4123e-7c90-43d0-b5cd-746966ca8207_1`.synopsis_info, `entities_fcf4123e-7c90-43d0-b5cd-746966ca8207_2`.id AS id_2, `entities_fcf4123e-7c90-43d0-b5cd-746966ca8207_2`.entity_type AS entity_type_1, `entities_fcf4123e-7c90-43d0-b5cd-746966ca8207_2`.name AS name_1, `entities_fcf4123e-7c90-43d0-b5cd-746966ca8207_2`.description AS description_2, `entities_fcf4123e-7c90-43d0-b5cd-746966ca8207_2`.description_vec AS description_vec_2, `entities_fcf4123e-7c90-43d0-b5cd-746966ca8207_2`.meta AS meta_2, `entities_fcf4123e-7c90-43d0-b5cd-746966ca8207_2`.meta_vec AS meta_vec_1, `entities_fcf4123e-7c90-43d0-b5cd-746966ca8207_2`.synopsis_info AS synopsis_info_1 \n",
      "FROM `relationships_fcf4123e-7c90-43d0-b5cd-746966ca8207` INNER JOIN (SELECT `relationships_fcf4123e-7c90-43d0-b5cd-746966ca8207`.id AS relationship_id, VEC_COSINE_DISTANCE(`relationships_fcf4123e-7c90-43d0-b5cd-746966ca8207`.description_vec, %s) AS embedding_distance \n",
      "FROM `relationships_fcf4123e-7c90-43d0-b5cd-746966ca8207` ORDER BY embedding_distance ASC \n",
      " LIMIT %s) AS anon_1 ON `relationships_fcf4123e-7c90-43d0-b5cd-746966ca8207`.id = anon_1.relationship_id LEFT OUTER JOIN `entities_fcf4123e-7c90-43d0-b5cd-746966ca8207` AS `entities_fcf4123e-7c90-43d0-b5cd-746966ca8207_1` ON `relationships_fcf4123e-7c90-43d0-b5cd-746966ca8207`.source_entity_id = `entities_fcf4123e-7c90-43d0-b5cd-746966ca8207_1`.id LEFT OUTER JOIN `entities_fcf4123e-7c90-43d0-b5cd-746966ca8207` AS `entities_fcf4123e-7c90-43d0-b5cd-746966ca8207_2` ON `relationships_fcf4123e-7c90-43d0-b5cd-746966ca8207`.target_entity_id = `entities_fcf4123e-7c90-43d0-b5cd-746966ca8207_2`.id \n",
      "WHERE embedding_distance >= %s AND embedding_distance <= %s AND (`relationships_fcf4123e-7c90-43d0-b5cd-746966ca8207`.id NOT IN (__[POSTCOMPILE_id_3])) AND `relationships_fcf4123e-7c90-43d0-b5cd-746966ca8207`.source_entity_id IN (__[POSTCOMPILE_source_entity_id_1]) ORDER BY similarity_score DESC \n",
      " LIMIT %s\n",
      "INFO:autoflow.storage.graph_store.tidb.tidb_graph_store:Debug - SQL Query: \n",
      "SELECT `relationships_fcf4123e-7c90-43d0-b5cd-746966ca8207`.id, `relationships_fcf4123e-7c90-43d0-b5cd-746966ca8207`.description, `relationships_fcf4123e-7c90-43d0-b5cd-746966ca8207`.description_vec, `relationships_fcf4123e-7c90-43d0-b5cd-746966ca8207`.source_entity_id, `relationships_fcf4123e-7c90-43d0-b5cd-746966ca8207`.target_entity_id, `relationships_fcf4123e-7c90-43d0-b5cd-746966ca8207`.meta, `relationships_fcf4123e-7c90-43d0-b5cd-746966ca8207`.weight, `relationships_fcf4123e-7c90-43d0-b5cd-746966ca8207`.chunk_id, `relationships_fcf4123e-7c90-43d0-b5cd-746966ca8207`.document_id, `relationships_fcf4123e-7c90-43d0-b5cd-746966ca8207`.created_at, `relationships_fcf4123e-7c90-43d0-b5cd-746966ca8207`.updated_at, %s - anon_1.embedding_distance AS similarity_score, `entities_fcf4123e-7c90-43d0-b5cd-746966ca8207_1`.id AS id_1, `entities_fcf4123e-7c90-43d0-b5cd-746966ca8207_1`.entity_type, `entities_fcf4123e-7c90-43d0-b5cd-746966ca8207_1`.name, `entities_fcf4123e-7c90-43d0-b5cd-746966ca8207_1`.description AS description_1, `entities_fcf4123e-7c90-43d0-b5cd-746966ca8207_1`.description_vec AS description_vec_1, `entities_fcf4123e-7c90-43d0-b5cd-746966ca8207_1`.meta AS meta_1, `entities_fcf4123e-7c90-43d0-b5cd-746966ca8207_1`.meta_vec, `entities_fcf4123e-7c90-43d0-b5cd-746966ca8207_1`.synopsis_info, `entities_fcf4123e-7c90-43d0-b5cd-746966ca8207_2`.id AS id_2, `entities_fcf4123e-7c90-43d0-b5cd-746966ca8207_2`.entity_type AS entity_type_1, `entities_fcf4123e-7c90-43d0-b5cd-746966ca8207_2`.name AS name_1, `entities_fcf4123e-7c90-43d0-b5cd-746966ca8207_2`.description AS description_2, `entities_fcf4123e-7c90-43d0-b5cd-746966ca8207_2`.description_vec AS description_vec_2, `entities_fcf4123e-7c90-43d0-b5cd-746966ca8207_2`.meta AS meta_2, `entities_fcf4123e-7c90-43d0-b5cd-746966ca8207_2`.meta_vec AS meta_vec_1, `entities_fcf4123e-7c90-43d0-b5cd-746966ca8207_2`.synopsis_info AS synopsis_info_1 \n",
      "FROM `relationships_fcf4123e-7c90-43d0-b5cd-746966ca8207` INNER JOIN (SELECT `relationships_fcf4123e-7c90-43d0-b5cd-746966ca8207`.id AS relationship_id, VEC_COSINE_DISTANCE(`relationships_fcf4123e-7c90-43d0-b5cd-746966ca8207`.description_vec, %s) AS embedding_distance \n",
      "FROM `relationships_fcf4123e-7c90-43d0-b5cd-746966ca8207` ORDER BY embedding_distance ASC \n",
      " LIMIT %s) AS anon_1 ON `relationships_fcf4123e-7c90-43d0-b5cd-746966ca8207`.id = anon_1.relationship_id LEFT OUTER JOIN `entities_fcf4123e-7c90-43d0-b5cd-746966ca8207` AS `entities_fcf4123e-7c90-43d0-b5cd-746966ca8207_1` ON `relationships_fcf4123e-7c90-43d0-b5cd-746966ca8207`.source_entity_id = `entities_fcf4123e-7c90-43d0-b5cd-746966ca8207_1`.id LEFT OUTER JOIN `entities_fcf4123e-7c90-43d0-b5cd-746966ca8207` AS `entities_fcf4123e-7c90-43d0-b5cd-746966ca8207_2` ON `relationships_fcf4123e-7c90-43d0-b5cd-746966ca8207`.target_entity_id = `entities_fcf4123e-7c90-43d0-b5cd-746966ca8207_2`.id \n",
      "WHERE embedding_distance >= %s AND embedding_distance <= %s AND (`relationships_fcf4123e-7c90-43d0-b5cd-746966ca8207`.id NOT IN (__[POSTCOMPILE_id_3])) AND `relationships_fcf4123e-7c90-43d0-b5cd-746966ca8207`.source_entity_id IN (__[POSTCOMPILE_source_entity_id_1]) ORDER BY similarity_score DESC \n",
      " LIMIT %s\n",
      "INFO:autoflow.storage.graph_store.tidb.tidb_graph_store:Debug - SQL Query: \n",
      "SELECT `relationships_fcf4123e-7c90-43d0-b5cd-746966ca8207`.id, `relationships_fcf4123e-7c90-43d0-b5cd-746966ca8207`.description, `relationships_fcf4123e-7c90-43d0-b5cd-746966ca8207`.description_vec, `relationships_fcf4123e-7c90-43d0-b5cd-746966ca8207`.source_entity_id, `relationships_fcf4123e-7c90-43d0-b5cd-746966ca8207`.target_entity_id, `relationships_fcf4123e-7c90-43d0-b5cd-746966ca8207`.meta, `relationships_fcf4123e-7c90-43d0-b5cd-746966ca8207`.weight, `relationships_fcf4123e-7c90-43d0-b5cd-746966ca8207`.chunk_id, `relationships_fcf4123e-7c90-43d0-b5cd-746966ca8207`.document_id, `relationships_fcf4123e-7c90-43d0-b5cd-746966ca8207`.created_at, `relationships_fcf4123e-7c90-43d0-b5cd-746966ca8207`.updated_at, %s - anon_1.embedding_distance AS similarity_score, `entities_fcf4123e-7c90-43d0-b5cd-746966ca8207_1`.id AS id_1, `entities_fcf4123e-7c90-43d0-b5cd-746966ca8207_1`.entity_type, `entities_fcf4123e-7c90-43d0-b5cd-746966ca8207_1`.name, `entities_fcf4123e-7c90-43d0-b5cd-746966ca8207_1`.description AS description_1, `entities_fcf4123e-7c90-43d0-b5cd-746966ca8207_1`.description_vec AS description_vec_1, `entities_fcf4123e-7c90-43d0-b5cd-746966ca8207_1`.meta AS meta_1, `entities_fcf4123e-7c90-43d0-b5cd-746966ca8207_1`.meta_vec, `entities_fcf4123e-7c90-43d0-b5cd-746966ca8207_1`.synopsis_info, `entities_fcf4123e-7c90-43d0-b5cd-746966ca8207_2`.id AS id_2, `entities_fcf4123e-7c90-43d0-b5cd-746966ca8207_2`.entity_type AS entity_type_1, `entities_fcf4123e-7c90-43d0-b5cd-746966ca8207_2`.name AS name_1, `entities_fcf4123e-7c90-43d0-b5cd-746966ca8207_2`.description AS description_2, `entities_fcf4123e-7c90-43d0-b5cd-746966ca8207_2`.description_vec AS description_vec_2, `entities_fcf4123e-7c90-43d0-b5cd-746966ca8207_2`.meta AS meta_2, `entities_fcf4123e-7c90-43d0-b5cd-746966ca8207_2`.meta_vec AS meta_vec_1, `entities_fcf4123e-7c90-43d0-b5cd-746966ca8207_2`.synopsis_info AS synopsis_info_1 \n",
      "FROM `relationships_fcf4123e-7c90-43d0-b5cd-746966ca8207` INNER JOIN (SELECT `relationships_fcf4123e-7c90-43d0-b5cd-746966ca8207`.id AS relationship_id, VEC_COSINE_DISTANCE(`relationships_fcf4123e-7c90-43d0-b5cd-746966ca8207`.description_vec, %s) AS embedding_distance \n",
      "FROM `relationships_fcf4123e-7c90-43d0-b5cd-746966ca8207` ORDER BY embedding_distance ASC \n",
      " LIMIT %s) AS anon_1 ON `relationships_fcf4123e-7c90-43d0-b5cd-746966ca8207`.id = anon_1.relationship_id LEFT OUTER JOIN `entities_fcf4123e-7c90-43d0-b5cd-746966ca8207` AS `entities_fcf4123e-7c90-43d0-b5cd-746966ca8207_1` ON `relationships_fcf4123e-7c90-43d0-b5cd-746966ca8207`.source_entity_id = `entities_fcf4123e-7c90-43d0-b5cd-746966ca8207_1`.id LEFT OUTER JOIN `entities_fcf4123e-7c90-43d0-b5cd-746966ca8207` AS `entities_fcf4123e-7c90-43d0-b5cd-746966ca8207_2` ON `relationships_fcf4123e-7c90-43d0-b5cd-746966ca8207`.target_entity_id = `entities_fcf4123e-7c90-43d0-b5cd-746966ca8207_2`.id \n",
      "WHERE embedding_distance >= %s AND embedding_distance <= %s AND (`relationships_fcf4123e-7c90-43d0-b5cd-746966ca8207`.id NOT IN (__[POSTCOMPILE_id_3])) AND `relationships_fcf4123e-7c90-43d0-b5cd-746966ca8207`.source_entity_id IN (__[POSTCOMPILE_source_entity_id_1]) ORDER BY similarity_score DESC \n",
      " LIMIT %s\n"
     ]
    },
    {
     "data": {
      "text/plain": [
       "['TiDB -> TiDB can be deployed in a Self-Managed model, providing users with control over their database setup. -> Self-Managed',\n",
       " 'TiDB -> TiDB Self-Managed is a deployment option of TiDB that allows users to manage the database on their own infrastructure. -> TiDB Self-Managed',\n",
       " 'TiDB -> TiDB utilizes TiKV as its row-based storage engine to support real-time data replication. -> TiKV',\n",
       " 'TiDB -> TiDB employs TiFlash as its columnar storage engine to ensure consistent data storage and real-time replication from TiKV. -> TiFlash',\n",
       " 'TiDB -> TiDB Operator facilitates the management of TiDB on Kubernetes, automating operational tasks. -> TiDB Operator',\n",
       " 'TiDB -> TiDB Cloud is the fully-managed service that allows users to deploy and run TiDB clusters in the cloud. -> TiDB Cloud',\n",
       " 'TiDB Self-Managed -> TiDB Self-Managed utilizes TiDB Architecture to structure its deployment and operations. -> TiDB Architecture',\n",
       " 'TiDB Self-Managed -> TiDB Self-Managed relies on TiDB Storage for data management and persistence. -> TiDB Storage',\n",
       " 'TiDB Self-Managed -> TiDB Self-Managed employs TiDB Computing to execute queries and process data. -> TiDB Computing',\n",
       " 'TiDB Self-Managed -> TiDB Self-Managed incorporates TiDB Scheduling to manage task execution and resource allocation. -> TiDB Scheduling']"
      ]
     },
     "execution_count": 50,
     "metadata": {},
     "output_type": "execute_result"
    }
   ],
   "source": [
    "kg = kb.search_knowledge_graph(\n",
    "    query=\"What is TiDB?\",\n",
    ")\n",
    "[(r.rag_description) for r in kg.relationships]"
   ]
  }
 ],
 "metadata": {
  "kernelspec": {
   "display_name": "Python 3",
   "language": "python",
   "name": "python3"
  },
  "language_info": {
   "codemirror_mode": {
    "name": "ipython",
    "version": 3
   },
   "file_extension": ".py",
   "mimetype": "text/x-python",
   "name": "python",
   "nbconvert_exporter": "python",
   "pygments_lexer": "ipython3",
   "version": "3.12.3"
  }
 },
 "nbformat": 4,
 "nbformat_minor": 5
}
